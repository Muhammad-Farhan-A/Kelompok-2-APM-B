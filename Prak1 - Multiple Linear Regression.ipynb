{
  "nbformat": 4,
  "nbformat_minor": 0,
  "metadata": {
    "colab": {
      "name": "Prak1 - Multiple Linear Regression.ipynb",
      "provenance": [],
      "authorship_tag": "ABX9TyO4GDOuSuYT6kcLg9IoFzC7",
      "include_colab_link": true
    },
    "kernelspec": {
      "name": "python3",
      "display_name": "Python 3"
    },
    "language_info": {
      "name": "python"
    }
  },
  "cells": [
    {
      "cell_type": "markdown",
      "metadata": {
        "id": "view-in-github",
        "colab_type": "text"
      },
      "source": [
        "<a href=\"https://colab.research.google.com/github/Muhammad-Farhan-A/Kelompok-2-APM-B/blob/main/Prak1%20-%20Multiple%20Linear%20Regression.ipynb\" target=\"_parent\"><img src=\"https://colab.research.google.com/assets/colab-badge.svg\" alt=\"Open In Colab\"/></a>"
      ]
    },
    {
      "cell_type": "code",
      "execution_count": 1,
      "metadata": {
        "id": "MdwlVj_es2ps"
      },
      "outputs": [],
      "source": [
        "#Mengimport library\n",
        "import numpy as np\n",
        "import pandas as pd"
      ]
    }
  ]
}