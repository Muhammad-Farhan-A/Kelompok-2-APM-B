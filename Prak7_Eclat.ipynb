{
  "nbformat": 4,
  "nbformat_minor": 0,
  "metadata": {
    "colab": {
      "name": "Untitled12.ipynb",
      "provenance": [],
      "authorship_tag": "ABX9TyNhMMWeNn77qHWbLsdegd8m",
      "include_colab_link": true
    },
    "kernelspec": {
      "name": "python3",
      "display_name": "Python 3"
    },
    "language_info": {
      "name": "python"
    }
  },
  "cells": [
    {
      "cell_type": "markdown",
      "metadata": {
        "id": "view-in-github",
        "colab_type": "text"
      },
      "source": [
        "<a href=\"https://colab.research.google.com/github/Muhammad-Farhan-A/Kelompok-2-APM-B/blob/main/Prak7_Eclat.ipynb\" target=\"_parent\"><img src=\"https://colab.research.google.com/assets/colab-badge.svg\" alt=\"Open In Colab\"/></a>"
      ]
    },
    {
      "cell_type": "code",
      "execution_count": 2,
      "metadata": {
        "colab": {
          "base_uri": "https://localhost:8080/"
        },
        "id": "ikMqBJ2OH5DI",
        "outputId": "e4cf616b-d856-4c4e-da3a-507848e3c1d7"
      },
      "outputs": [
        {
          "output_type": "stream",
          "name": "stdout",
          "text": [
            "Looking in indexes: https://pypi.org/simple, https://us-python.pkg.dev/colab-wheels/public/simple/\n",
            "Collecting pyECLAT\n",
            "  Downloading pyECLAT-1.0.2-py3-none-any.whl (6.3 kB)\n",
            "Requirement already satisfied: tqdm>=4.41.1 in /usr/local/lib/python3.7/dist-packages (from pyECLAT) (4.64.0)\n",
            "Requirement already satisfied: numpy>=1.17.4 in /usr/local/lib/python3.7/dist-packages (from pyECLAT) (1.21.6)\n",
            "Requirement already satisfied: pandas>=0.25.3 in /usr/local/lib/python3.7/dist-packages (from pyECLAT) (1.3.5)\n",
            "Requirement already satisfied: python-dateutil>=2.7.3 in /usr/local/lib/python3.7/dist-packages (from pandas>=0.25.3->pyECLAT) (2.8.2)\n",
            "Requirement already satisfied: pytz>=2017.3 in /usr/local/lib/python3.7/dist-packages (from pandas>=0.25.3->pyECLAT) (2022.1)\n",
            "Requirement already satisfied: six>=1.5 in /usr/local/lib/python3.7/dist-packages (from python-dateutil>=2.7.3->pandas>=0.25.3->pyECLAT) (1.15.0)\n",
            "Installing collected packages: pyECLAT\n",
            "Successfully installed pyECLAT-1.0.2\n"
          ]
        }
      ],
      "source": [
        "#menginstall modul eclat\n",
        "%pip install pyECLAT"
      ]
    },
    {
      "cell_type": "code",
      "source": [
        "#menginstall modul apyori\n",
        "%pip install apyori"
      ],
      "metadata": {
        "colab": {
          "base_uri": "https://localhost:8080/"
        },
        "id": "4eGLJmamIU3T",
        "outputId": "9d5c65cf-f585-4fea-f373-8c553e99d15d"
      },
      "execution_count": 3,
      "outputs": [
        {
          "output_type": "stream",
          "name": "stdout",
          "text": [
            "Looking in indexes: https://pypi.org/simple, https://us-python.pkg.dev/colab-wheels/public/simple/\n",
            "Collecting apyori\n",
            "  Downloading apyori-1.1.2.tar.gz (8.6 kB)\n",
            "Building wheels for collected packages: apyori\n",
            "  Building wheel for apyori (setup.py) ... \u001b[?25l\u001b[?25hdone\n",
            "  Created wheel for apyori: filename=apyori-1.1.2-py3-none-any.whl size=5974 sha256=0c07e1079259e884fc8c1e290cccbd34f86da2e929d049b951e928f83db9864a\n",
            "  Stored in directory: /root/.cache/pip/wheels/cb/f6/e1/57973c631d27efd1a2f375bd6a83b2a616c4021f24aab84080\n",
            "Successfully built apyori\n",
            "Installing collected packages: apyori\n",
            "Successfully installed apyori-1.1.2\n"
          ]
        }
      ]
    },
    {
      "cell_type": "code",
      "source": [
        "#mengimport library yang dibutuhkan\n",
        "import numpy as np\n",
        "import pandas as pd\n",
        "import plotly.express as px\n",
        "import io"
      ],
      "metadata": {
        "id": "XZ1uYJGiIaD6"
      },
      "execution_count": 4,
      "outputs": []
    },
    {
      "cell_type": "code",
      "source": [
        "#mengimport dataset\n",
        "from google.colab import files\n",
        "uploaded = files.upload()"
      ],
      "metadata": {
        "colab": {
          "resources": {
            "http://localhost:8080/nbextensions/google.colab/files.js": {
              "data": "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",
              "ok": true,
              "headers": [
                [
                  "content-type",
                  "application/javascript"
                ]
              ],
              "status": 200,
              "status_text": "OK"
            }
          },
          "base_uri": "https://localhost:8080/",
          "height": 74
        },
        "id": "6S-sCTNLJRst",
        "outputId": "4f03725b-b136-42ed-be72-400d858414d3"
      },
      "execution_count": 5,
      "outputs": [
        {
          "output_type": "display_data",
          "data": {
            "text/plain": [
              "<IPython.core.display.HTML object>"
            ],
            "text/html": [
              "\n",
              "     <input type=\"file\" id=\"files-7071d0c6-3186-4610-9217-a8f4e133a3b2\" name=\"files[]\" multiple disabled\n",
              "        style=\"border:none\" />\n",
              "     <output id=\"result-7071d0c6-3186-4610-9217-a8f4e133a3b2\">\n",
              "      Upload widget is only available when the cell has been executed in the\n",
              "      current browser session. Please rerun this cell to enable.\n",
              "      </output>\n",
              "      <script src=\"/nbextensions/google.colab/files.js\"></script> "
            ]
          },
          "metadata": {}
        },
        {
          "output_type": "stream",
          "name": "stdout",
          "text": [
            "Saving bestsellers with categories.csv to bestsellers with categories.csv\n"
          ]
        }
      ]
    },
    {
      "cell_type": "code",
      "source": [
        "#menampilkan dataset\n",
        "df = pd.read_csv(io.BytesIO(uploaded['bestsellers with categories.csv']))\n",
        "dataset = df[['Name','Author','Genre']]\n",
        "print(dataset)"
      ],
      "metadata": {
        "colab": {
          "base_uri": "https://localhost:8080/"
        },
        "id": "6uhNoifqJctz",
        "outputId": "f76f652f-f0c8-4baf-c5b7-fe2f4807aa1a"
      },
      "execution_count": 6,
      "outputs": [
        {
          "output_type": "stream",
          "name": "stdout",
          "text": [
            "                                                  Name  \\\n",
            "0                        10-Day Green Smoothie Cleanse   \n",
            "1                                    11/22/63: A Novel   \n",
            "2              12 Rules for Life: An Antidote to Chaos   \n",
            "3                               1984 (Signet Classics)   \n",
            "4    5,000 Awesome Facts (About Everything!) (Natio...   \n",
            "..                                                 ...   \n",
            "545       Wrecking Ball (Diary of a Wimpy Kid Book 14)   \n",
            "546  You Are a Badass: How to Stop Doubting Your Gr...   \n",
            "547  You Are a Badass: How to Stop Doubting Your Gr...   \n",
            "548  You Are a Badass: How to Stop Doubting Your Gr...   \n",
            "549  You Are a Badass: How to Stop Doubting Your Gr...   \n",
            "\n",
            "                       Author        Genre  \n",
            "0                    JJ Smith  Non Fiction  \n",
            "1                Stephen King      Fiction  \n",
            "2          Jordan B. Peterson  Non Fiction  \n",
            "3               George Orwell      Fiction  \n",
            "4    National Geographic Kids  Non Fiction  \n",
            "..                        ...          ...  \n",
            "545               Jeff Kinney      Fiction  \n",
            "546               Jen Sincero  Non Fiction  \n",
            "547               Jen Sincero  Non Fiction  \n",
            "548               Jen Sincero  Non Fiction  \n",
            "549               Jen Sincero  Non Fiction  \n",
            "\n",
            "[550 rows x 3 columns]\n"
          ]
        }
      ]
    },
    {
      "cell_type": "code",
      "source": [
        "#menampilkan informasi dataset\n",
        "dataset.info()\n",
        "transactions = []\n",
        "for i in range(0, 550):\n",
        "  transactions.append([str(dataset.values[i,j]) for j in range(0, 3)])"
      ],
      "metadata": {
        "colab": {
          "base_uri": "https://localhost:8080/"
        },
        "id": "AO_6mMzEJ7Uk",
        "outputId": "a779b934-034b-4fd2-b6d3-45ede56df095"
      },
      "execution_count": 7,
      "outputs": [
        {
          "output_type": "stream",
          "name": "stdout",
          "text": [
            "<class 'pandas.core.frame.DataFrame'>\n",
            "RangeIndex: 550 entries, 0 to 549\n",
            "Data columns (total 3 columns):\n",
            " #   Column  Non-Null Count  Dtype \n",
            "---  ------  --------------  ----- \n",
            " 0   Name    550 non-null    object\n",
            " 1   Author  550 non-null    object\n",
            " 2   Genre   550 non-null    object\n",
            "dtypes: object(3)\n",
            "memory usage: 13.0+ KB\n"
          ]
        }
      ]
    },
    {
      "cell_type": "code",
      "source": [
        "#membuat model apriori\n",
        "from apyori import apriori\n",
        "rules = apriori(transactions = transactions, min_support = 0.003, min_confidence = 0.2, min_lift = 3, min_length = 2, max_length = 2)"
      ],
      "metadata": {
        "id": "kewjc81qTaUW"
      },
      "execution_count": 8,
      "outputs": []
    },
    {
      "cell_type": "code",
      "source": [
        "#menampilkan hasil\n",
        "results = list(rules)\n",
        "results"
      ],
      "metadata": {
        "colab": {
          "base_uri": "https://localhost:8080/"
        },
        "id": "RhHZxiwfUUiW",
        "outputId": "fca7eb0b-b429-491d-f47c-53c5c8de348f"
      },
      "execution_count": 9,
      "outputs": [
        {
          "output_type": "execute_result",
          "data": {
            "text/plain": [
              "[RelationRecord(items=frozenset({'Fredrik Backman', 'A Man Called Ove: A Novel'}), support=0.0036363636363636364, ordered_statistics=[OrderedStatistic(items_base=frozenset({'A Man Called Ove: A Novel'}), items_add=frozenset({'Fredrik Backman'}), confidence=1.0, lift=275.0), OrderedStatistic(items_base=frozenset({'Fredrik Backman'}), items_add=frozenset({'A Man Called Ove: A Novel'}), confidence=1.0, lift=275.0)]),\n",
              " RelationRecord(items=frozenset({'Cutting for Stone', 'Abraham Verghese'}), support=0.0036363636363636364, ordered_statistics=[OrderedStatistic(items_base=frozenset({'Abraham Verghese'}), items_add=frozenset({'Cutting for Stone'}), confidence=1.0, lift=275.0), OrderedStatistic(items_base=frozenset({'Cutting for Stone'}), items_add=frozenset({'Abraham Verghese'}), confidence=1.0, lift=275.0)]),\n",
              " RelationRecord(items=frozenset({'Anthony Doerr', 'All the Light We Cannot See'}), support=0.0036363636363636364, ordered_statistics=[OrderedStatistic(items_base=frozenset({'All the Light We Cannot See'}), items_add=frozenset({'Anthony Doerr'}), confidence=1.0, lift=275.0), OrderedStatistic(items_base=frozenset({'Anthony Doerr'}), items_add=frozenset({'All the Light We Cannot See'}), confidence=1.0, lift=275.0)]),\n",
              " RelationRecord(items=frozenset({'American Psychiatric Association', 'Diagnostic and Statistical Manual of Mental Disorders, 5th Edition: DSM-5'}), support=0.0036363636363636364, ordered_statistics=[OrderedStatistic(items_base=frozenset({'American Psychiatric Association'}), items_add=frozenset({'Diagnostic and Statistical Manual of Mental Disorders, 5th Edition: DSM-5'}), confidence=1.0, lift=275.0), OrderedStatistic(items_base=frozenset({'Diagnostic and Statistical Manual of Mental Disorders, 5th Edition: DSM-5'}), items_add=frozenset({'American Psychiatric Association'}), confidence=1.0, lift=275.0)]),\n",
              " RelationRecord(items=frozenset({'Publication Manual of the American Psychological Association, 6th Edition', 'American Psychological Association'}), support=0.01818181818181818, ordered_statistics=[OrderedStatistic(items_base=frozenset({'American Psychological Association'}), items_add=frozenset({'Publication Manual of the American Psychological Association, 6th Edition'}), confidence=1.0, lift=55.0), OrderedStatistic(items_base=frozenset({'Publication Manual of the American Psychological Association, 6th Edition'}), items_add=frozenset({'American Psychological Association'}), confidence=1.0, lift=55.0)]),\n",
              " RelationRecord(items=frozenset({'Amy Ramos', 'The Complete Ketogenic Diet for Beginners: Your Essential Guide to Living the Keto Lifestyle'}), support=0.0036363636363636364, ordered_statistics=[OrderedStatistic(items_base=frozenset({'Amy Ramos'}), items_add=frozenset({'The Complete Ketogenic Diet for Beginners: Your Essential Guide to Living the Keto Lifestyle'}), confidence=1.0, lift=275.0), OrderedStatistic(items_base=frozenset({'The Complete Ketogenic Diet for Beginners: Your Essential Guide to Living the Keto Lifestyle'}), items_add=frozenset({'Amy Ramos'}), confidence=1.0, lift=275.0)]),\n",
              " RelationRecord(items=frozenset({'Ann Voskamp', 'One Thousand Gifts: A Dare to Live Fully Right Where You Are'}), support=0.0036363636363636364, ordered_statistics=[OrderedStatistic(items_base=frozenset({'Ann Voskamp'}), items_add=frozenset({'One Thousand Gifts: A Dare to Live Fully Right Where You Are'}), confidence=1.0, lift=275.0), OrderedStatistic(items_base=frozenset({'One Thousand Gifts: A Dare to Live Fully Right Where You Are'}), items_add=frozenset({'Ann Voskamp'}), confidence=1.0, lift=275.0)]),\n",
              " RelationRecord(items=frozenset({'Ann Whitford Paul', 'If Animals Kissed Good Night'}), support=0.0036363636363636364, ordered_statistics=[OrderedStatistic(items_base=frozenset({'Ann Whitford Paul'}), items_add=frozenset({'If Animals Kissed Good Night'}), confidence=1.0, lift=275.0), OrderedStatistic(items_base=frozenset({'If Animals Kissed Good Night'}), items_add=frozenset({'Ann Whitford Paul'}), confidence=1.0, lift=275.0)]),\n",
              " RelationRecord(items=frozenset({'The Book with No Pictures', 'B. J. Novak'}), support=0.0036363636363636364, ordered_statistics=[OrderedStatistic(items_base=frozenset({'B. J. Novak'}), items_add=frozenset({'The Book with No Pictures'}), confidence=1.0, lift=275.0), OrderedStatistic(items_base=frozenset({'The Book with No Pictures'}), items_add=frozenset({'B. J. Novak'}), confidence=1.0, lift=275.0)]),\n",
              " RelationRecord(items=frozenset({'Michelle Obama', 'Becoming'}), support=0.0036363636363636364, ordered_statistics=[OrderedStatistic(items_base=frozenset({'Becoming'}), items_add=frozenset({'Michelle Obama'}), confidence=1.0, lift=275.0), OrderedStatistic(items_base=frozenset({'Michelle Obama'}), items_add=frozenset({'Becoming'}), confidence=1.0, lift=275.0)]),\n",
              " RelationRecord(items=frozenset({'Ta-Nehisi Coates', 'Between the World and Me'}), support=0.0036363636363636364, ordered_statistics=[OrderedStatistic(items_base=frozenset({'Between the World and Me'}), items_add=frozenset({'Ta-Nehisi Coates'}), confidence=1.0, lift=275.0), OrderedStatistic(items_base=frozenset({'Ta-Nehisi Coates'}), items_add=frozenset({'Between the World and Me'}), confidence=1.0, lift=275.0)]),\n",
              " RelationRecord(items=frozenset({'Bill Martin Jr.', 'Brown Bear, Brown Bear, What Do You See?'}), support=0.0036363636363636364, ordered_statistics=[OrderedStatistic(items_base=frozenset({'Bill Martin Jr.'}), items_add=frozenset({'Brown Bear, Brown Bear, What Do You See?'}), confidence=1.0, lift=275.0), OrderedStatistic(items_base=frozenset({'Brown Bear, Brown Bear, What Do You See?'}), items_add=frozenset({'Bill Martin Jr.'}), confidence=1.0, lift=275.0)]),\n",
              " RelationRecord(items=frozenset({\"Bill O'Reilly\", \"Killing Lincoln: The Shocking Assassination that Changed America Forever (Bill O'Reilly's Killing Series)\"}), support=0.0036363636363636364, ordered_statistics=[OrderedStatistic(items_base=frozenset({\"Bill O'Reilly\"}), items_add=frozenset({\"Killing Lincoln: The Shocking Assassination that Changed America Forever (Bill O'Reilly's Killing Series)\"}), confidence=0.2857142857142857, lift=78.57142857142857), OrderedStatistic(items_base=frozenset({\"Killing Lincoln: The Shocking Assassination that Changed America Forever (Bill O'Reilly's Killing Series)\"}), items_add=frozenset({\"Bill O'Reilly\"}), confidence=1.0, lift=78.57142857142857)]),\n",
              " RelationRecord(items=frozenset({'Humans of New York', 'Brandon Stanton'}), support=0.0036363636363636364, ordered_statistics=[OrderedStatistic(items_base=frozenset({'Brandon Stanton'}), items_add=frozenset({'Humans of New York'}), confidence=0.6666666666666666, lift=183.33333333333331), OrderedStatistic(items_base=frozenset({'Humans of New York'}), items_add=frozenset({'Brandon Stanton'}), confidence=1.0, lift=183.33333333333331)]),\n",
              " RelationRecord(items=frozenset({'Carol S. Dweck', 'Mindset: The New Psychology of Success'}), support=0.005454545454545455, ordered_statistics=[OrderedStatistic(items_base=frozenset({'Carol S. Dweck'}), items_add=frozenset({'Mindset: The New Psychology of Success'}), confidence=1.0, lift=183.33333333333331), OrderedStatistic(items_base=frozenset({'Mindset: The New Psychology of Success'}), items_add=frozenset({'Carol S. Dweck'}), confidence=1.0, lift=183.33333333333331)]),\n",
              " RelationRecord(items=frozenset({'Suzanne Collins', 'Catching Fire (The Hunger Games)'}), support=0.005454545454545455, ordered_statistics=[OrderedStatistic(items_base=frozenset({'Catching Fire (The Hunger Games)'}), items_add=frozenset({'Suzanne Collins'}), confidence=1.0, lift=50.0), OrderedStatistic(items_base=frozenset({'Suzanne Collins'}), items_add=frozenset({'Catching Fire (The Hunger Games)'}), confidence=0.27272727272727276, lift=50.0)]),\n",
              " RelationRecord(items=frozenset({'Craig Smith', 'The Wonky Donkey'}), support=0.0036363636363636364, ordered_statistics=[OrderedStatistic(items_base=frozenset({'Craig Smith'}), items_add=frozenset({'The Wonky Donkey'}), confidence=1.0, lift=275.0), OrderedStatistic(items_base=frozenset({'The Wonky Donkey'}), items_add=frozenset({'Craig Smith'}), confidence=1.0, lift=275.0)]),\n",
              " RelationRecord(items=frozenset({'Francis Chan', 'Crazy Love: Overwhelmed by a Relentless God'}), support=0.005454545454545455, ordered_statistics=[OrderedStatistic(items_base=frozenset({'Crazy Love: Overwhelmed by a Relentless God'}), items_add=frozenset({'Francis Chan'}), confidence=1.0, lift=183.33333333333331), OrderedStatistic(items_base=frozenset({'Francis Chan'}), items_add=frozenset({'Crazy Love: Overwhelmed by a Relentless God'}), confidence=1.0, lift=183.33333333333331)]),\n",
              " RelationRecord(items=frozenset({'Dale Carnegie', 'How to Win Friends & Influence People'}), support=0.00909090909090909, ordered_statistics=[OrderedStatistic(items_base=frozenset({'Dale Carnegie'}), items_add=frozenset({'How to Win Friends & Influence People'}), confidence=1.0, lift=110.0), OrderedStatistic(items_base=frozenset({'How to Win Friends & Influence People'}), items_add=frozenset({'Dale Carnegie'}), confidence=1.0, lift=110.0)]),\n",
              " RelationRecord(items=frozenset({'The Boys in the Boat: Nine Americans and Their Epic Quest for Gold at the 1936 Berlin Olympics', 'Daniel James Brown'}), support=0.0036363636363636364, ordered_statistics=[OrderedStatistic(items_base=frozenset({'Daniel James Brown'}), items_add=frozenset({'The Boys in the Boat: Nine Americans and Their Epic Quest for Gold at the 1936 Berlin Olympics'}), confidence=1.0, lift=275.0), OrderedStatistic(items_base=frozenset({'The Boys in the Boat: Nine Americans and Their Epic Quest for Gold at the 1936 Berlin Olympics'}), items_add=frozenset({'Daniel James Brown'}), confidence=1.0, lift=275.0)]),\n",
              " RelationRecord(items=frozenset({'Daniel Kahneman', 'Thinking, Fast and Slow'}), support=0.0036363636363636364, ordered_statistics=[OrderedStatistic(items_base=frozenset({'Daniel Kahneman'}), items_add=frozenset({'Thinking, Fast and Slow'}), confidence=1.0, lift=275.0), OrderedStatistic(items_base=frozenset({'Thinking, Fast and Slow'}), items_add=frozenset({'Daniel Kahneman'}), confidence=1.0, lift=275.0)]),\n",
              " RelationRecord(items=frozenset({'Daniel Lipkowitz', 'The Lego Ideas Book: Unlock Your Imagination'}), support=0.0036363636363636364, ordered_statistics=[OrderedStatistic(items_base=frozenset({'Daniel Lipkowitz'}), items_add=frozenset({'The Lego Ideas Book: Unlock Your Imagination'}), confidence=1.0, lift=275.0), OrderedStatistic(items_base=frozenset({'The Lego Ideas Book: Unlock Your Imagination'}), items_add=frozenset({'Daniel Lipkowitz'}), confidence=1.0, lift=275.0)]),\n",
              " RelationRecord(items=frozenset({'Dog Man: Brawl of the Wild: From the Creator of Captain Underpants (Dog Man #6)', 'Dav Pilkey'}), support=0.0036363636363636364, ordered_statistics=[OrderedStatistic(items_base=frozenset({'Dav Pilkey'}), items_add=frozenset({'Dog Man: Brawl of the Wild: From the Creator of Captain Underpants (Dog Man #6)'}), confidence=0.2857142857142857, lift=78.57142857142857), OrderedStatistic(items_base=frozenset({'Dog Man: Brawl of the Wild: From the Creator of Captain Underpants (Dog Man #6)'}), items_add=frozenset({'Dav Pilkey'}), confidence=1.0, lift=78.57142857142857)]),\n",
              " RelationRecord(items=frozenset({'David Platt', 'Radical: Taking Back Your Faith from the American Dream'}), support=0.0036363636363636364, ordered_statistics=[OrderedStatistic(items_base=frozenset({'David Platt'}), items_add=frozenset({'Radical: Taking Back Your Faith from the American Dream'}), confidence=1.0, lift=275.0), OrderedStatistic(items_base=frozenset({'Radical: Taking Back Your Faith from the American Dream'}), items_add=frozenset({'David Platt'}), confidence=1.0, lift=275.0)]),\n",
              " RelationRecord(items=frozenset({'Dear Zoo: A Lift-the-Flap Book', 'Rod Campbell'}), support=0.007272727272727273, ordered_statistics=[OrderedStatistic(items_base=frozenset({'Dear Zoo: A Lift-the-Flap Book'}), items_add=frozenset({'Rod Campbell'}), confidence=1.0, lift=137.5), OrderedStatistic(items_base=frozenset({'Rod Campbell'}), items_add=frozenset({'Dear Zoo: A Lift-the-Flap Book'}), confidence=1.0, lift=137.5)]),\n",
              " RelationRecord(items=frozenset({'The Pout-Pout Fish', 'Deborah Diesen'}), support=0.0036363636363636364, ordered_statistics=[OrderedStatistic(items_base=frozenset({'Deborah Diesen'}), items_add=frozenset({'The Pout-Pout Fish'}), confidence=1.0, lift=275.0), OrderedStatistic(items_base=frozenset({'The Pout-Pout Fish'}), items_add=frozenset({'Deborah Diesen'}), confidence=1.0, lift=275.0)]),\n",
              " RelationRecord(items=frozenset({'Divergent', 'Veronica Roth'}), support=0.0036363636363636364, ordered_statistics=[OrderedStatistic(items_base=frozenset({'Divergent'}), items_add=frozenset({'Veronica Roth'}), confidence=1.0, lift=137.5), OrderedStatistic(items_base=frozenset({'Veronica Roth'}), items_add=frozenset({'Divergent'}), confidence=0.5, lift=137.5)]),\n",
              " RelationRecord(items=frozenset({'The Four Agreements: A Practical Guide to Personal Freedom (A Toltec Wisdom Book)', 'Don Miguel Ruiz'}), support=0.01090909090909091, ordered_statistics=[OrderedStatistic(items_base=frozenset({'Don Miguel Ruiz'}), items_add=frozenset({'The Four Agreements: A Practical Guide to Personal Freedom (A Toltec Wisdom Book)'}), confidence=1.0, lift=91.66666666666666), OrderedStatistic(items_base=frozenset({'The Four Agreements: A Practical Guide to Personal Freedom (A Toltec Wisdom Book)'}), items_add=frozenset({'Don Miguel Ruiz'}), confidence=1.0, lift=91.66666666666666)]),\n",
              " RelationRecord(items=frozenset({'The Goldfinch: A Novel (Pulitzer Prize for Fiction)', 'Donna Tartt'}), support=0.0036363636363636364, ordered_statistics=[OrderedStatistic(items_base=frozenset({'Donna Tartt'}), items_add=frozenset({'The Goldfinch: A Novel (Pulitzer Prize for Fiction)'}), confidence=1.0, lift=275.0), OrderedStatistic(items_base=frozenset({'The Goldfinch: A Novel (Pulitzer Prize for Fiction)'}), items_add=frozenset({'Donna Tartt'}), confidence=1.0, lift=275.0)]),\n",
              " RelationRecord(items=frozenset({'Doug Lemov', 'Teach Like a Champion: 49 Techniques that Put Students on the Path to College'}), support=0.0036363636363636364, ordered_statistics=[OrderedStatistic(items_base=frozenset({'Doug Lemov'}), items_add=frozenset({'Teach Like a Champion: 49 Techniques that Put Students on the Path to College'}), confidence=1.0, lift=275.0), OrderedStatistic(items_base=frozenset({'Teach Like a Champion: 49 Techniques that Put Students on the Path to College'}), items_add=frozenset({'Doug Lemov'}), confidence=1.0, lift=275.0)]),\n",
              " RelationRecord(items=frozenset({'Dr. Seuss', \"Oh, the Places You'll Go!\"}), support=0.014545454545454545, ordered_statistics=[OrderedStatistic(items_base=frozenset({'Dr. Seuss'}), items_add=frozenset({\"Oh, the Places You'll Go!\"}), confidence=0.8888888888888888, lift=61.11111111111111), OrderedStatistic(items_base=frozenset({\"Oh, the Places You'll Go!\"}), items_add=frozenset({'Dr. Seuss'}), confidence=1.0, lift=61.11111111111111)]),\n",
              " RelationRecord(items=frozenset({'Drew Daywalt', 'The Day the Crayons Quit'}), support=0.005454545454545455, ordered_statistics=[OrderedStatistic(items_base=frozenset({'Drew Daywalt'}), items_add=frozenset({'The Day the Crayons Quit'}), confidence=1.0, lift=183.33333333333331), OrderedStatistic(items_base=frozenset({'The Day the Crayons Quit'}), items_add=frozenset({'Drew Daywalt'}), confidence=1.0, lift=183.33333333333331)]),\n",
              " RelationRecord(items=frozenset({'E L James', 'Fifty Shades of Grey: Book One of the Fifty Shades Trilogy (Fifty Shades of Grey Series)'}), support=0.0036363636363636364, ordered_statistics=[OrderedStatistic(items_base=frozenset({'E L James'}), items_add=frozenset({'Fifty Shades of Grey: Book One of the Fifty Shades Trilogy (Fifty Shades of Grey Series)'}), confidence=0.3333333333333333, lift=91.66666666666666), OrderedStatistic(items_base=frozenset({'Fifty Shades of Grey: Book One of the Fifty Shades Trilogy (Fifty Shades of Grey Series)'}), items_add=frozenset({'E L James'}), confidence=1.0, lift=91.66666666666666)]),\n",
              " RelationRecord(items=frozenset({'Eat to Live: The Amazing Nutrient-Rich Program for Fast and Sustained Weight Loss, Revised Edition', 'Joel Fuhrman MD'}), support=0.0036363636363636364, ordered_statistics=[OrderedStatistic(items_base=frozenset({'Eat to Live: The Amazing Nutrient-Rich Program for Fast and Sustained Weight Loss, Revised Edition'}), items_add=frozenset({'Joel Fuhrman MD'}), confidence=1.0, lift=275.0), OrderedStatistic(items_base=frozenset({'Joel Fuhrman MD'}), items_add=frozenset({'Eat to Live: The Amazing Nutrient-Rich Program for Fast and Sustained Weight Loss, Revised Edition'}), confidence=1.0, lift=275.0)]),\n",
              " RelationRecord(items=frozenset({'Eben Alexander', \"Proof of Heaven: A Neurosurgeon's Journey into the Afterlife\"}), support=0.0036363636363636364, ordered_statistics=[OrderedStatistic(items_base=frozenset({'Eben Alexander'}), items_add=frozenset({\"Proof of Heaven: A Neurosurgeon's Journey into the Afterlife\"}), confidence=1.0, lift=275.0), OrderedStatistic(items_base=frozenset({\"Proof of Heaven: A Neurosurgeon's Journey into the Afterlife\"}), items_add=frozenset({'Eben Alexander'}), confidence=1.0, lift=275.0)]),\n",
              " RelationRecord(items=frozenset({'Educated: A Memoir', 'Tara Westover'}), support=0.0036363636363636364, ordered_statistics=[OrderedStatistic(items_base=frozenset({'Educated: A Memoir'}), items_add=frozenset({'Tara Westover'}), confidence=1.0, lift=275.0), OrderedStatistic(items_base=frozenset({'Tara Westover'}), items_add=frozenset({'Educated: A Memoir'}), confidence=1.0, lift=275.0)]),\n",
              " RelationRecord(items=frozenset({'Emily Winfield Martin', 'The Wonderful Things You Will Be'}), support=0.007272727272727273, ordered_statistics=[OrderedStatistic(items_base=frozenset({'Emily Winfield Martin'}), items_add=frozenset({'The Wonderful Things You Will Be'}), confidence=1.0, lift=137.5), OrderedStatistic(items_base=frozenset({'The Wonderful Things You Will Be'}), items_add=frozenset({'Emily Winfield Martin'}), confidence=1.0, lift=137.5)]),\n",
              " RelationRecord(items=frozenset({'Eric Carle', 'The Very Hungry Caterpillar'}), support=0.012727272727272728, ordered_statistics=[OrderedStatistic(items_base=frozenset({'Eric Carle'}), items_add=frozenset({'The Very Hungry Caterpillar'}), confidence=1.0, lift=78.57142857142857), OrderedStatistic(items_base=frozenset({'The Very Hungry Caterpillar'}), items_add=frozenset({'Eric Carle'}), confidence=1.0, lift=78.57142857142857)]),\n",
              " RelationRecord(items=frozenset({'Ernest Cline', 'Ready Player One: A Novel'}), support=0.0036363636363636364, ordered_statistics=[OrderedStatistic(items_base=frozenset({'Ernest Cline'}), items_add=frozenset({'Ready Player One: A Novel'}), confidence=1.0, lift=275.0), OrderedStatistic(items_base=frozenset({'Ready Player One: A Novel'}), items_add=frozenset({'Ernest Cline'}), confidence=1.0, lift=275.0)]),\n",
              " RelationRecord(items=frozenset({'F. Scott Fitzgerald', 'The Great Gatsby'}), support=0.005454545454545455, ordered_statistics=[OrderedStatistic(items_base=frozenset({'F. Scott Fitzgerald'}), items_add=frozenset({'The Great Gatsby'}), confidence=1.0, lift=183.33333333333331), OrderedStatistic(items_base=frozenset({'The Great Gatsby'}), items_add=frozenset({'F. Scott Fitzgerald'}), confidence=1.0, lift=183.33333333333331)]),\n",
              " RelationRecord(items=frozenset({'Fahrenheit 451', 'Ray Bradbury'}), support=0.0036363636363636364, ordered_statistics=[OrderedStatistic(items_base=frozenset({'Fahrenheit 451'}), items_add=frozenset({'Ray Bradbury'}), confidence=1.0, lift=275.0), OrderedStatistic(items_base=frozenset({'Ray Bradbury'}), items_add=frozenset({'Fahrenheit 451'}), confidence=1.0, lift=275.0)]),\n",
              " RelationRecord(items=frozenset({'First 100 Words', 'Roger Priddy'}), support=0.00909090909090909, ordered_statistics=[OrderedStatistic(items_base=frozenset({'First 100 Words'}), items_add=frozenset({'Roger Priddy'}), confidence=1.0, lift=110.0), OrderedStatistic(items_base=frozenset({'Roger Priddy'}), items_add=frozenset({'First 100 Words'}), confidence=1.0, lift=110.0)]),\n",
              " RelationRecord(items=frozenset({'StrengthsFinder 2.0', 'Gallup'}), support=0.016363636363636365, ordered_statistics=[OrderedStatistic(items_base=frozenset({'Gallup'}), items_add=frozenset({'StrengthsFinder 2.0'}), confidence=1.0, lift=61.11111111111111), OrderedStatistic(items_base=frozenset({'StrengthsFinder 2.0'}), items_add=frozenset({'Gallup'}), confidence=1.0, lift=61.11111111111111)]),\n",
              " RelationRecord(items=frozenset({'George R.R. Martin', 'Game of Thrones Boxed Set: A Game of Thrones/A Clash of Kings/A Storm of Swords/A Feast for Crows'}), support=0.005454545454545455, ordered_statistics=[OrderedStatistic(items_base=frozenset({'Game of Thrones Boxed Set: A Game of Thrones/A Clash of Kings/A Storm of Swords/A Feast for Crows'}), items_add=frozenset({'George R.R. Martin'}), confidence=1.0, lift=183.33333333333331), OrderedStatistic(items_base=frozenset({'George R.R. Martin'}), items_add=frozenset({'Game of Thrones Boxed Set: A Game of Thrones/A Clash of Kings/A Storm of Swords/A Feast for Crows'}), confidence=1.0, lift=183.33333333333331)]),\n",
              " RelationRecord(items=frozenset({'The Art of Racing in the Rain: A Novel', 'Garth Stein'}), support=0.0036363636363636364, ordered_statistics=[OrderedStatistic(items_base=frozenset({'Garth Stein'}), items_add=frozenset({'The Art of Racing in the Rain: A Novel'}), confidence=1.0, lift=275.0), OrderedStatistic(items_base=frozenset({'The Art of Racing in the Rain: A Novel'}), items_add=frozenset({'Garth Stein'}), confidence=1.0, lift=275.0)]),\n",
              " RelationRecord(items=frozenset({'The 5 Love Languages: The Secret to Love That Lasts', 'Gary Chapman'}), support=0.00909090909090909, ordered_statistics=[OrderedStatistic(items_base=frozenset({'Gary Chapman'}), items_add=frozenset({'The 5 Love Languages: The Secret to Love That Lasts'}), confidence=0.45454545454545453, lift=50.0), OrderedStatistic(items_base=frozenset({'The 5 Love Languages: The Secret to Love That Lasts'}), items_add=frozenset({'Gary Chapman'}), confidence=1.0, lift=50.0)]),\n",
              " RelationRecord(items=frozenset({'The 5 Love Languages: The Secret to Love that Lasts', 'Gary Chapman'}), support=0.00909090909090909, ordered_statistics=[OrderedStatistic(items_base=frozenset({'Gary Chapman'}), items_add=frozenset({'The 5 Love Languages: The Secret to Love that Lasts'}), confidence=0.45454545454545453, lift=50.0), OrderedStatistic(items_base=frozenset({'The 5 Love Languages: The Secret to Love that Lasts'}), items_add=frozenset({'Gary Chapman'}), confidence=1.0, lift=50.0)]),\n",
              " RelationRecord(items=frozenset({'Giles Andreae', \"Giraffes Can't Dance\"}), support=0.00909090909090909, ordered_statistics=[OrderedStatistic(items_base=frozenset({'Giles Andreae'}), items_add=frozenset({\"Giraffes Can't Dance\"}), confidence=1.0, lift=110.0), OrderedStatistic(items_base=frozenset({\"Giraffes Can't Dance\"}), items_add=frozenset({'Giles Andreae'}), confidence=1.0, lift=110.0)]),\n",
              " RelationRecord(items=frozenset({'Gone Girl', 'Gillian Flynn'}), support=0.005454545454545455, ordered_statistics=[OrderedStatistic(items_base=frozenset({'Gillian Flynn'}), items_add=frozenset({'Gone Girl'}), confidence=1.0, lift=183.33333333333331), OrderedStatistic(items_base=frozenset({'Gone Girl'}), items_add=frozenset({'Gillian Flynn'}), confidence=1.0, lift=183.33333333333331)]),\n",
              " RelationRecord(items=frozenset({'Girl, Wash Your Face: Stop Believing the Lies About Who You Are So You Can Become Who You Were Meant to Be', 'Rachel Hollis'}), support=0.0036363636363636364, ordered_statistics=[OrderedStatistic(items_base=frozenset({'Girl, Wash Your Face: Stop Believing the Lies About Who You Are So You Can Become Who You Were Meant to Be'}), items_add=frozenset({'Rachel Hollis'}), confidence=1.0, lift=183.33333333333331), OrderedStatistic(items_base=frozenset({'Rachel Hollis'}), items_add=frozenset({'Girl, Wash Your Face: Stop Believing the Lies About Who You Are So You Can Become Who You Were Meant to Be'}), confidence=0.6666666666666666, lift=183.33333333333331)]),\n",
              " RelationRecord(items=frozenset({\"Good to Great: Why Some Companies Make the Leap and Others Don't\", 'Jim Collins'}), support=0.007272727272727273, ordered_statistics=[OrderedStatistic(items_base=frozenset({\"Good to Great: Why Some Companies Make the Leap and Others Don't\"}), items_add=frozenset({'Jim Collins'}), confidence=1.0, lift=137.5), OrderedStatistic(items_base=frozenset({'Jim Collins'}), items_add=frozenset({\"Good to Great: Why Some Companies Make the Leap and Others Don't\"}), confidence=1.0, lift=137.5)]),\n",
              " RelationRecord(items=frozenset({'Margaret Wise Brown', 'Goodnight Moon'}), support=0.005454545454545455, ordered_statistics=[OrderedStatistic(items_base=frozenset({'Goodnight Moon'}), items_add=frozenset({'Margaret Wise Brown'}), confidence=1.0, lift=183.33333333333331), OrderedStatistic(items_base=frozenset({'Margaret Wise Brown'}), items_add=frozenset({'Goodnight Moon'}), confidence=1.0, lift=183.33333333333331)]),\n",
              " RelationRecord(items=frozenset({'Goodnight, Goodnight Construction Site (Hardcover Books for Toddlers, Preschool Books for Kids)', 'Sherri Duskey Rinker'}), support=0.0036363636363636364, ordered_statistics=[OrderedStatistic(items_base=frozenset({'Goodnight, Goodnight Construction Site (Hardcover Books for Toddlers, Preschool Books for Kids)'}), items_add=frozenset({'Sherri Duskey Rinker'}), confidence=1.0, lift=275.0), OrderedStatistic(items_base=frozenset({'Sherri Duskey Rinker'}), items_add=frozenset({'Goodnight, Goodnight Construction Site (Hardcover Books for Toddlers, Preschool Books for Kids)'}), confidence=1.0, lift=275.0)]),\n",
              " RelationRecord(items=frozenset({'Greg Mortenson', \"Three Cups of Tea: One Man's Mission to Promote Peace - One School at a Time\"}), support=0.0036363636363636364, ordered_statistics=[OrderedStatistic(items_base=frozenset({'Greg Mortenson'}), items_add=frozenset({\"Three Cups of Tea: One Man's Mission to Promote Peace - One School at a Time\"}), confidence=1.0, lift=275.0), OrderedStatistic(items_base=frozenset({\"Three Cups of Tea: One Man's Mission to Promote Peace - One School at a Time\"}), items_add=frozenset({'Greg Mortenson'}), confidence=1.0, lift=275.0)]),\n",
              " RelationRecord(items=frozenset({'Harper Lee', 'To Kill a Mockingbird'}), support=0.00909090909090909, ordered_statistics=[OrderedStatistic(items_base=frozenset({'Harper Lee'}), items_add=frozenset({'To Kill a Mockingbird'}), confidence=0.8333333333333333, lift=91.66666666666666), OrderedStatistic(items_base=frozenset({'To Kill a Mockingbird'}), items_add=frozenset({'Harper Lee'}), confidence=1.0, lift=91.66666666666666)]),\n",
              " RelationRecord(items=frozenset({'Todd Burpo', \"Heaven is for Real: A Little Boy's Astounding Story of His Trip to Heaven and Back\"}), support=0.0036363636363636364, ordered_statistics=[OrderedStatistic(items_base=frozenset({\"Heaven is for Real: A Little Boy's Astounding Story of His Trip to Heaven and Back\"}), items_add=frozenset({'Todd Burpo'}), confidence=1.0, lift=275.0), OrderedStatistic(items_base=frozenset({'Todd Burpo'}), items_add=frozenset({\"Heaven is for Real: A Little Boy's Astounding Story of His Trip to Heaven and Back\"}), confidence=1.0, lift=275.0)]),\n",
              " RelationRecord(items=frozenset({'J. D. Vance', 'Hillbilly Elegy: A Memoir of a Family and Culture in Crisis'}), support=0.0036363636363636364, ordered_statistics=[OrderedStatistic(items_base=frozenset({'Hillbilly Elegy: A Memoir of a Family and Culture in Crisis'}), items_add=frozenset({'J. D. Vance'}), confidence=1.0, lift=275.0), OrderedStatistic(items_base=frozenset({'J. D. Vance'}), items_add=frozenset({'Hillbilly Elegy: A Memoir of a Family and Culture in Crisis'}), confidence=1.0, lift=275.0)]),\n",
              " RelationRecord(items=frozenset({'Instant Pot Pressure Cooker Cookbook: 500 Everyday Recipes for Beginners and Advanced Users. Try Easy and Healthy…', 'Jennifer Smith'}), support=0.0036363636363636364, ordered_statistics=[OrderedStatistic(items_base=frozenset({'Instant Pot Pressure Cooker Cookbook: 500 Everyday Recipes for Beginners and Advanced Users. Try Easy and Healthy…'}), items_add=frozenset({'Jennifer Smith'}), confidence=1.0, lift=275.0), OrderedStatistic(items_base=frozenset({'Jennifer Smith'}), items_add=frozenset({'Instant Pot Pressure Cooker Cookbook: 500 Everyday Recipes for Beginners and Advanced Users. Try Easy and Healthy…'}), confidence=1.0, lift=275.0)]),\n",
              " RelationRecord(items=frozenset({'Jen Sincero', 'You Are a Badass: How to Stop Doubting Your Greatness and Start Living an Awesome Life'}), support=0.007272727272727273, ordered_statistics=[OrderedStatistic(items_base=frozenset({'Jen Sincero'}), items_add=frozenset({'You Are a Badass: How to Stop Doubting Your Greatness and Start Living an Awesome Life'}), confidence=1.0, lift=137.5), OrderedStatistic(items_base=frozenset({'You Are a Badass: How to Stop Doubting Your Greatness and Start Living an Awesome Life'}), items_add=frozenset({'Jen Sincero'}), confidence=1.0, lift=137.5)]),\n",
              " RelationRecord(items=frozenset({'Sarah Young', 'Jesus Calling: Enjoying Peace in His Presence (with Scripture References)'}), support=0.01090909090909091, ordered_statistics=[OrderedStatistic(items_base=frozenset({'Jesus Calling: Enjoying Peace in His Presence (with Scripture References)'}), items_add=frozenset({'Sarah Young'}), confidence=1.0, lift=91.66666666666666), OrderedStatistic(items_base=frozenset({'Sarah Young'}), items_add=frozenset({'Jesus Calling: Enjoying Peace in His Presence (with Scripture References)'}), confidence=1.0, lift=91.66666666666666)]),\n",
              " RelationRecord(items=frozenset({'John Green', 'The Fault in Our Stars'}), support=0.007272727272727273, ordered_statistics=[OrderedStatistic(items_base=frozenset({'John Green'}), items_add=frozenset({'The Fault in Our Stars'}), confidence=0.8, lift=110.0), OrderedStatistic(items_base=frozenset({'The Fault in Our Stars'}), items_add=frozenset({'John Green'}), confidence=1.0, lift=110.0)]),\n",
              " RelationRecord(items=frozenset({'Kathryn Stockett', 'The Help'}), support=0.007272727272727273, ordered_statistics=[OrderedStatistic(items_base=frozenset({'Kathryn Stockett'}), items_add=frozenset({'The Help'}), confidence=1.0, lift=137.5), OrderedStatistic(items_base=frozenset({'The Help'}), items_add=frozenset({'Kathryn Stockett'}), confidence=1.0, lift=137.5)]),\n",
              " RelationRecord(items=frozenset({'Knock-Knock Jokes for Kids', 'Rob Elliott'}), support=0.005454545454545455, ordered_statistics=[OrderedStatistic(items_base=frozenset({'Knock-Knock Jokes for Kids'}), items_add=frozenset({'Rob Elliott'}), confidence=1.0, lift=68.75), OrderedStatistic(items_base=frozenset({'Rob Elliott'}), items_add=frozenset({'Knock-Knock Jokes for Kids'}), confidence=0.37500000000000006, lift=68.75)]),\n",
              " RelationRecord(items=frozenset({'Kristin Hannah', 'The Nightingale: A Novel'}), support=0.0036363636363636364, ordered_statistics=[OrderedStatistic(items_base=frozenset({'Kristin Hannah'}), items_add=frozenset({'The Nightingale: A Novel'}), confidence=1.0, lift=275.0), OrderedStatistic(items_base=frozenset({'The Nightingale: A Novel'}), items_add=frozenset({'Kristin Hannah'}), confidence=1.0, lift=275.0)]),\n",
              " RelationRecord(items=frozenset({'Laugh-Out-Loud Jokes for Kids', 'Rob Elliott'}), support=0.00909090909090909, ordered_statistics=[OrderedStatistic(items_base=frozenset({'Laugh-Out-Loud Jokes for Kids'}), items_add=frozenset({'Rob Elliott'}), confidence=1.0, lift=68.75), OrderedStatistic(items_base=frozenset({'Rob Elliott'}), items_add=frozenset({'Laugh-Out-Loud Jokes for Kids'}), confidence=0.625, lift=68.75)]),\n",
              " RelationRecord(items=frozenset({'Unbroken: A World War II Story of Survival, Resilience, and Redemption', 'Laura Hillenbrand'}), support=0.00909090909090909, ordered_statistics=[OrderedStatistic(items_base=frozenset({'Laura Hillenbrand'}), items_add=frozenset({'Unbroken: A World War II Story of Survival, Resilience, and Redemption'}), confidence=1.0, lift=110.0), OrderedStatistic(items_base=frozenset({'Unbroken: A World War II Story of Survival, Resilience, and Redemption'}), items_add=frozenset({'Laura Hillenbrand'}), confidence=1.0, lift=110.0)]),\n",
              " RelationRecord(items=frozenset({'The Instant Pot Electric Pressure Cooker Cookbook: Easy Recipes for Fast & Healthy Meals', 'Laurel Randolph'}), support=0.0036363636363636364, ordered_statistics=[OrderedStatistic(items_base=frozenset({'Laurel Randolph'}), items_add=frozenset({'The Instant Pot Electric Pressure Cooker Cookbook: Easy Recipes for Fast & Healthy Meals'}), confidence=1.0, lift=275.0), OrderedStatistic(items_base=frozenset({'The Instant Pot Electric Pressure Cooker Cookbook: Easy Recipes for Fast & Healthy Meals'}), items_add=frozenset({'Laurel Randolph'}), confidence=1.0, lift=275.0)]),\n",
              " RelationRecord(items=frozenset({'Robert Munsch', 'Love You Forever'}), support=0.0036363636363636364, ordered_statistics=[OrderedStatistic(items_base=frozenset({'Love You Forever'}), items_add=frozenset({'Robert Munsch'}), confidence=1.0, lift=275.0), OrderedStatistic(items_base=frozenset({'Robert Munsch'}), items_add=frozenset({'Love You Forever'}), confidence=1.0, lift=275.0)]),\n",
              " RelationRecord(items=frozenset({'Outliers: The Story of Success', 'Malcolm Gladwell'}), support=0.0036363636363636364, ordered_statistics=[OrderedStatistic(items_base=frozenset({'Malcolm Gladwell'}), items_add=frozenset({'Outliers: The Story of Success'}), confidence=0.5, lift=137.5), OrderedStatistic(items_base=frozenset({'Outliers: The Story of Success'}), items_add=frozenset({'Malcolm Gladwell'}), confidence=1.0, lift=137.5)]),\n",
              " RelationRecord(items=frozenset({'The Life-Changing Magic of Tidying Up: The Japanese Art of Decluttering and Organizing', 'Marie Kondō'}), support=0.007272727272727273, ordered_statistics=[OrderedStatistic(items_base=frozenset({'Marie Kondō'}), items_add=frozenset({'The Life-Changing Magic of Tidying Up: The Japanese Art of Decluttering and Organizing'}), confidence=1.0, lift=137.5), OrderedStatistic(items_base=frozenset({'The Life-Changing Magic of Tidying Up: The Japanese Art of Decluttering and Organizing'}), items_add=frozenset({'Marie Kondō'}), confidence=1.0, lift=137.5)]),\n",
              " RelationRecord(items=frozenset({'Mark Manson', 'The Subtle Art of Not Giving a F*ck: A Counterintuitive Approach to Living a Good Life'}), support=0.005454545454545455, ordered_statistics=[OrderedStatistic(items_base=frozenset({'Mark Manson'}), items_add=frozenset({'The Subtle Art of Not Giving a F*ck: A Counterintuitive Approach to Living a Good Life'}), confidence=1.0, lift=183.33333333333331), OrderedStatistic(items_base=frozenset({'The Subtle Art of Not Giving a F*ck: A Counterintuitive Approach to Living a Good Life'}), items_add=frozenset({'Mark Manson'}), confidence=1.0, lift=183.33333333333331)]),\n",
              " RelationRecord(items=frozenset({'Markus Zusak', 'The Book Thief'}), support=0.0036363636363636364, ordered_statistics=[OrderedStatistic(items_base=frozenset({'Markus Zusak'}), items_add=frozenset({'The Book Thief'}), confidence=1.0, lift=275.0), OrderedStatistic(items_base=frozenset({'The Book Thief'}), items_add=frozenset({'Markus Zusak'}), confidence=1.0, lift=275.0)]),\n",
              " RelationRecord(items=frozenset({'The Whole30: The 30-Day Guide to Total Health and Food Freedom', 'Melissa Hartwig Urban'}), support=0.005454545454545455, ordered_statistics=[OrderedStatistic(items_base=frozenset({'Melissa Hartwig Urban'}), items_add=frozenset({'The Whole30: The 30-Day Guide to Total Health and Food Freedom'}), confidence=1.0, lift=183.33333333333331), OrderedStatistic(items_base=frozenset({'The Whole30: The 30-Day Guide to Total Health and Food Freedom'}), items_add=frozenset({'Melissa Hartwig Urban'}), confidence=1.0, lift=183.33333333333331)]),\n",
              " RelationRecord(items=frozenset({'Milk and Honey', 'Rupi Kaur'}), support=0.005454545454545455, ordered_statistics=[OrderedStatistic(items_base=frozenset({'Milk and Honey'}), items_add=frozenset({'Rupi Kaur'}), confidence=1.0, lift=137.5), OrderedStatistic(items_base=frozenset({'Rupi Kaur'}), items_add=frozenset({'Milk and Honey'}), confidence=0.7500000000000001, lift=137.5)]),\n",
              " RelationRecord(items=frozenset({'Suzanne Collins', 'Mockingjay (The Hunger Games)'}), support=0.005454545454545455, ordered_statistics=[OrderedStatistic(items_base=frozenset({'Mockingjay (The Hunger Games)'}), items_add=frozenset({'Suzanne Collins'}), confidence=1.0, lift=50.0), OrderedStatistic(items_base=frozenset({'Suzanne Collins'}), items_add=frozenset({'Mockingjay (The Hunger Games)'}), confidence=0.27272727272727276, lift=50.0)]),\n",
              " RelationRecord(items=frozenset({'P is for Potty! (Sesame Street) (Lift-the-Flap)', 'Naomi Kleinberg'}), support=0.0036363636363636364, ordered_statistics=[OrderedStatistic(items_base=frozenset({'Naomi Kleinberg'}), items_add=frozenset({'P is for Potty! (Sesame Street) (Lift-the-Flap)'}), confidence=1.0, lift=275.0), OrderedStatistic(items_base=frozenset({'P is for Potty! (Sesame Street) (Lift-the-Flap)'}), items_add=frozenset({'Naomi Kleinberg'}), confidence=1.0, lift=275.0)]),\n",
              " RelationRecord(items=frozenset({'The Five Dysfunctions of a Team: A Leadership Fable', 'Patrick Lencioni'}), support=0.00909090909090909, ordered_statistics=[OrderedStatistic(items_base=frozenset({'Patrick Lencioni'}), items_add=frozenset({'The Five Dysfunctions of a Team: A Leadership Fable'}), confidence=1.0, lift=110.0), OrderedStatistic(items_base=frozenset({'The Five Dysfunctions of a Team: A Leadership Fable'}), items_add=frozenset({'Patrick Lencioni'}), confidence=1.0, lift=110.0)]),\n",
              " RelationRecord(items=frozenset({'The Girl on the Train', 'Paula Hawkins'}), support=0.0036363636363636364, ordered_statistics=[OrderedStatistic(items_base=frozenset({'Paula Hawkins'}), items_add=frozenset({'The Girl on the Train'}), confidence=1.0, lift=275.0), OrderedStatistic(items_base=frozenset({'The Girl on the Train'}), items_add=frozenset({'Paula Hawkins'}), confidence=1.0, lift=275.0)]),\n",
              " RelationRecord(items=frozenset({'Wizards RPG Team', \"Player's Handbook (Dungeons & Dragons)\"}), support=0.005454545454545455, ordered_statistics=[OrderedStatistic(items_base=frozenset({\"Player's Handbook (Dungeons & Dragons)\"}), items_add=frozenset({'Wizards RPG Team'}), confidence=1.0, lift=183.33333333333331), OrderedStatistic(items_base=frozenset({'Wizards RPG Team'}), items_add=frozenset({\"Player's Handbook (Dungeons & Dragons)\"}), confidence=1.0, lift=183.33333333333331)]),\n",
              " RelationRecord(items=frozenset({'Susan Cain', \"Quiet: The Power of Introverts in a World That Can't Stop Talking\"}), support=0.0036363636363636364, ordered_statistics=[OrderedStatistic(items_base=frozenset({\"Quiet: The Power of Introverts in a World That Can't Stop Talking\"}), items_add=frozenset({'Susan Cain'}), confidence=1.0, lift=275.0), OrderedStatistic(items_base=frozenset({'Susan Cain'}), items_add=frozenset({\"Quiet: The Power of Introverts in a World That Can't Stop Talking\"}), confidence=1.0, lift=275.0)]),\n",
              " RelationRecord(items=frozenset({'Wonder', 'R. J. Palacio'}), support=0.00909090909090909, ordered_statistics=[OrderedStatistic(items_base=frozenset({'R. J. Palacio'}), items_add=frozenset({'Wonder'}), confidence=1.0, lift=110.0), OrderedStatistic(items_base=frozenset({'Wonder'}), items_add=frozenset({'R. J. Palacio'}), confidence=1.0, lift=110.0)]),\n",
              " RelationRecord(items=frozenset({'The Immortal Life of Henrietta Lacks', 'Rebecca Skloot'}), support=0.005454545454545455, ordered_statistics=[OrderedStatistic(items_base=frozenset({'Rebecca Skloot'}), items_add=frozenset({'The Immortal Life of Henrietta Lacks'}), confidence=1.0, lift=183.33333333333331), OrderedStatistic(items_base=frozenset({'The Immortal Life of Henrietta Lacks'}), items_add=frozenset({'Rebecca Skloot'}), confidence=1.0, lift=183.33333333333331)]),\n",
              " RelationRecord(items=frozenset({'Rick Riordan', 'The Last Olympian (Percy Jackson and the Olympians, Book 5)'}), support=0.0036363636363636364, ordered_statistics=[OrderedStatistic(items_base=frozenset({'The Last Olympian (Percy Jackson and the Olympians, Book 5)'}), items_add=frozenset({'Rick Riordan'}), confidence=1.0, lift=50.0)]),\n",
              " RelationRecord(items=frozenset({'Samin Nosrat', 'Salt, Fat, Acid, Heat: Mastering the Elements of Good Cooking'}), support=0.0036363636363636364, ordered_statistics=[OrderedStatistic(items_base=frozenset({'Salt, Fat, Acid, Heat: Mastering the Elements of Good Cooking'}), items_add=frozenset({'Samin Nosrat'}), confidence=1.0, lift=275.0), OrderedStatistic(items_base=frozenset({'Samin Nosrat'}), items_add=frozenset({'Salt, Fat, Acid, Heat: Mastering the Elements of Good Cooking'}), confidence=1.0, lift=275.0)]),\n",
              " RelationRecord(items=frozenset({'Sandra Boynton', 'The Going-To-Bed Book'}), support=0.0036363636363636364, ordered_statistics=[OrderedStatistic(items_base=frozenset({'Sandra Boynton'}), items_add=frozenset({'The Going-To-Bed Book'}), confidence=1.0, lift=275.0), OrderedStatistic(items_base=frozenset({'The Going-To-Bed Book'}), items_add=frozenset({'Sandra Boynton'}), confidence=1.0, lift=275.0)]),\n",
              " RelationRecord(items=frozenset({'School Zone', 'School Zone - Big Preschool Workbook - Ages 4 and Up, Colors, Shapes, Numbers 1-10, Alphabet, Pre-Writing, Pre-Reading…'}), support=0.0036363636363636364, ordered_statistics=[OrderedStatistic(items_base=frozenset({'School Zone'}), items_add=frozenset({'School Zone - Big Preschool Workbook - Ages 4 and Up, Colors, Shapes, Numbers 1-10, Alphabet, Pre-Writing, Pre-Reading…'}), confidence=1.0, lift=275.0), OrderedStatistic(items_base=frozenset({'School Zone - Big Preschool Workbook - Ages 4 and Up, Colors, Shapes, Numbers 1-10, Alphabet, Pre-Writing, Pre-Reading…'}), items_add=frozenset({'School Zone'}), confidence=1.0, lift=275.0)]),\n",
              " RelationRecord(items=frozenset({'The 7 Habits of Highly Effective People: Powerful Lessons in Personal Change', 'Stephen R. Covey'}), support=0.012727272727272728, ordered_statistics=[OrderedStatistic(items_base=frozenset({'Stephen R. Covey'}), items_add=frozenset({'The 7 Habits of Highly Effective People: Powerful Lessons in Personal Change'}), confidence=1.0, lift=78.57142857142857), OrderedStatistic(items_base=frozenset({'The 7 Habits of Highly Effective People: Powerful Lessons in Personal Change'}), items_add=frozenset({'Stephen R. Covey'}), confidence=1.0, lift=78.57142857142857)]),\n",
              " RelationRecord(items=frozenset({'Steve Jobs', 'Walter Isaacson'}), support=0.0036363636363636364, ordered_statistics=[OrderedStatistic(items_base=frozenset({'Steve Jobs'}), items_add=frozenset({'Walter Isaacson'}), confidence=1.0, lift=183.33333333333331), OrderedStatistic(items_base=frozenset({'Walter Isaacson'}), items_add=frozenset({'Steve Jobs'}), confidence=0.6666666666666666, lift=183.33333333333331)]),\n",
              " RelationRecord(items=frozenset({\"The Girl Who Kicked the Hornet's Nest (Millennium Trilogy)\", 'Stieg Larsson'}), support=0.0036363636363636364, ordered_statistics=[OrderedStatistic(items_base=frozenset({'Stieg Larsson'}), items_add=frozenset({\"The Girl Who Kicked the Hornet's Nest (Millennium Trilogy)\"}), confidence=0.3333333333333333, lift=91.66666666666666), OrderedStatistic(items_base=frozenset({\"The Girl Who Kicked the Hornet's Nest (Millennium Trilogy)\"}), items_add=frozenset({'Stieg Larsson'}), confidence=1.0, lift=91.66666666666666)]),\n",
              " RelationRecord(items=frozenset({'The Girl with the Dragon Tattoo (Millennium Series)', 'Stieg Larsson'}), support=0.0036363636363636364, ordered_statistics=[OrderedStatistic(items_base=frozenset({'Stieg Larsson'}), items_add=frozenset({'The Girl with the Dragon Tattoo (Millennium Series)'}), confidence=0.3333333333333333, lift=91.66666666666666), OrderedStatistic(items_base=frozenset({'The Girl with the Dragon Tattoo (Millennium Series)'}), items_add=frozenset({'Stieg Larsson'}), confidence=1.0, lift=91.66666666666666)]),\n",
              " RelationRecord(items=frozenset({'The Hunger Games (Book 1)', 'Suzanne Collins'}), support=0.0036363636363636364, ordered_statistics=[OrderedStatistic(items_base=frozenset({'The Hunger Games (Book 1)'}), items_add=frozenset({'Suzanne Collins'}), confidence=1.0, lift=50.0)]),\n",
              " RelationRecord(items=frozenset({'Suzanne Collins', 'The Hunger Games Trilogy Boxed Set (1)'}), support=0.0036363636363636364, ordered_statistics=[OrderedStatistic(items_base=frozenset({'The Hunger Games Trilogy Boxed Set (1)'}), items_add=frozenset({'Suzanne Collins'}), confidence=1.0, lift=50.0)]),\n",
              " RelationRecord(items=frozenset({'The Official SAT Study Guide', 'The College Board'}), support=0.00909090909090909, ordered_statistics=[OrderedStatistic(items_base=frozenset({'The College Board'}), items_add=frozenset({'The Official SAT Study Guide'}), confidence=0.8333333333333333, lift=91.66666666666666), OrderedStatistic(items_base=frozenset({'The Official SAT Study Guide'}), items_add=frozenset({'The College Board'}), confidence=1.0, lift=91.66666666666666)]),\n",
              " RelationRecord(items=frozenset({'The Shack: Where Tragedy Confronts Eternity', 'William P. Young'}), support=0.0036363636363636364, ordered_statistics=[OrderedStatistic(items_base=frozenset({'The Shack: Where Tragedy Confronts Eternity'}), items_add=frozenset({'William P. Young'}), confidence=1.0, lift=275.0), OrderedStatistic(items_base=frozenset({'William P. Young'}), items_add=frozenset({'The Shack: Where Tragedy Confronts Eternity'}), confidence=1.0, lift=275.0)]),\n",
              " RelationRecord(items=frozenset({'Thug Kitchen', 'Thug Kitchen: The Official Cookbook: Eat Like You Give a F*ck (Thug Kitchen Cookbooks)'}), support=0.007272727272727273, ordered_statistics=[OrderedStatistic(items_base=frozenset({'Thug Kitchen'}), items_add=frozenset({'Thug Kitchen: The Official Cookbook: Eat Like You Give a F*ck (Thug Kitchen Cookbooks)'}), confidence=1.0, lift=137.5), OrderedStatistic(items_base=frozenset({'Thug Kitchen: The Official Cookbook: Eat Like You Give a F*ck (Thug Kitchen Cookbooks)'}), items_add=frozenset({'Thug Kitchen'}), confidence=1.0, lift=137.5)]),\n",
              " RelationRecord(items=frozenset({'William Davis', 'Wheat Belly: Lose the Wheat, Lose the Weight, and Find Your Path Back to Health'}), support=0.0036363636363636364, ordered_statistics=[OrderedStatistic(items_base=frozenset({'Wheat Belly: Lose the Wheat, Lose the Weight, and Find Your Path Back to Health'}), items_add=frozenset({'William Davis'}), confidence=1.0, lift=275.0), OrderedStatistic(items_base=frozenset({'William Davis'}), items_add=frozenset({'Wheat Belly: Lose the Wheat, Lose the Weight, and Find Your Path Back to Health'}), confidence=1.0, lift=275.0)])]"
            ]
          },
          "metadata": {},
          "execution_count": 9
        }
      ]
    },
    {
      "cell_type": "code",
      "source": [
        "#menempatkan hasil ke dalam dataframe\n",
        "def inspect(results):\n",
        "    lhs         = [tuple(result[2][0][0])[0] for result in results]\n",
        "    rhs         = [tuple(result[2][0][1])[0] for result in results]\n",
        "    supports    = [result[1] for result in results]\n",
        "    return list(zip(lhs, rhs, supports))\n",
        "resultsinDataFrame = pd.DataFrame(inspect(results), columns = ['Author', 'Title', 'Support'])"
      ],
      "metadata": {
        "id": "FxRcEqeA2o_Z"
      },
      "execution_count": 10,
      "outputs": []
    },
    {
      "cell_type": "code",
      "source": [
        "#menampilkan dataframe result\n",
        "resultsinDataFrame.nlargest(n = 10, columns = 'Support')"
      ],
      "metadata": {
        "colab": {
          "base_uri": "https://localhost:8080/",
          "height": 363
        },
        "id": "NBUR-PtM2tH3",
        "outputId": "d75b058b-4dea-45f4-cbab-b8b2cb7eb862"
      },
      "execution_count": 11,
      "outputs": [
        {
          "output_type": "execute_result",
          "data": {
            "text/plain": [
              "                                               Author  \\\n",
              "4                  American Psychological Association   \n",
              "42                                             Gallup   \n",
              "30                                          Dr. Seuss   \n",
              "37                                         Eric Carle   \n",
              "86                                   Stephen R. Covey   \n",
              "27                                    Don Miguel Ruiz   \n",
              "59  Jesus Calling: Enjoying Peace in His Presence ...   \n",
              "18                                      Dale Carnegie   \n",
              "41                                    First 100 Words   \n",
              "45                                       Gary Chapman   \n",
              "\n",
              "                                                Title   Support  \n",
              "4   Publication Manual of the American Psychologic...  0.018182  \n",
              "42                                StrengthsFinder 2.0  0.016364  \n",
              "30                          Oh, the Places You'll Go!  0.014545  \n",
              "37                        The Very Hungry Caterpillar  0.012727  \n",
              "86  The 7 Habits of Highly Effective People: Power...  0.012727  \n",
              "27  The Four Agreements: A Practical Guide to Pers...  0.010909  \n",
              "59                                        Sarah Young  0.010909  \n",
              "18              How to Win Friends & Influence People  0.009091  \n",
              "41                                       Roger Priddy  0.009091  \n",
              "45  The 5 Love Languages: The Secret to Love That ...  0.009091  "
            ],
            "text/html": [
              "\n",
              "  <div id=\"df-97f6ae07-558f-4d4c-a148-b1ab378f20aa\">\n",
              "    <div class=\"colab-df-container\">\n",
              "      <div>\n",
              "<style scoped>\n",
              "    .dataframe tbody tr th:only-of-type {\n",
              "        vertical-align: middle;\n",
              "    }\n",
              "\n",
              "    .dataframe tbody tr th {\n",
              "        vertical-align: top;\n",
              "    }\n",
              "\n",
              "    .dataframe thead th {\n",
              "        text-align: right;\n",
              "    }\n",
              "</style>\n",
              "<table border=\"1\" class=\"dataframe\">\n",
              "  <thead>\n",
              "    <tr style=\"text-align: right;\">\n",
              "      <th></th>\n",
              "      <th>Author</th>\n",
              "      <th>Title</th>\n",
              "      <th>Support</th>\n",
              "    </tr>\n",
              "  </thead>\n",
              "  <tbody>\n",
              "    <tr>\n",
              "      <th>4</th>\n",
              "      <td>American Psychological Association</td>\n",
              "      <td>Publication Manual of the American Psychologic...</td>\n",
              "      <td>0.018182</td>\n",
              "    </tr>\n",
              "    <tr>\n",
              "      <th>42</th>\n",
              "      <td>Gallup</td>\n",
              "      <td>StrengthsFinder 2.0</td>\n",
              "      <td>0.016364</td>\n",
              "    </tr>\n",
              "    <tr>\n",
              "      <th>30</th>\n",
              "      <td>Dr. Seuss</td>\n",
              "      <td>Oh, the Places You'll Go!</td>\n",
              "      <td>0.014545</td>\n",
              "    </tr>\n",
              "    <tr>\n",
              "      <th>37</th>\n",
              "      <td>Eric Carle</td>\n",
              "      <td>The Very Hungry Caterpillar</td>\n",
              "      <td>0.012727</td>\n",
              "    </tr>\n",
              "    <tr>\n",
              "      <th>86</th>\n",
              "      <td>Stephen R. Covey</td>\n",
              "      <td>The 7 Habits of Highly Effective People: Power...</td>\n",
              "      <td>0.012727</td>\n",
              "    </tr>\n",
              "    <tr>\n",
              "      <th>27</th>\n",
              "      <td>Don Miguel Ruiz</td>\n",
              "      <td>The Four Agreements: A Practical Guide to Pers...</td>\n",
              "      <td>0.010909</td>\n",
              "    </tr>\n",
              "    <tr>\n",
              "      <th>59</th>\n",
              "      <td>Jesus Calling: Enjoying Peace in His Presence ...</td>\n",
              "      <td>Sarah Young</td>\n",
              "      <td>0.010909</td>\n",
              "    </tr>\n",
              "    <tr>\n",
              "      <th>18</th>\n",
              "      <td>Dale Carnegie</td>\n",
              "      <td>How to Win Friends &amp; Influence People</td>\n",
              "      <td>0.009091</td>\n",
              "    </tr>\n",
              "    <tr>\n",
              "      <th>41</th>\n",
              "      <td>First 100 Words</td>\n",
              "      <td>Roger Priddy</td>\n",
              "      <td>0.009091</td>\n",
              "    </tr>\n",
              "    <tr>\n",
              "      <th>45</th>\n",
              "      <td>Gary Chapman</td>\n",
              "      <td>The 5 Love Languages: The Secret to Love That ...</td>\n",
              "      <td>0.009091</td>\n",
              "    </tr>\n",
              "  </tbody>\n",
              "</table>\n",
              "</div>\n",
              "      <button class=\"colab-df-convert\" onclick=\"convertToInteractive('df-97f6ae07-558f-4d4c-a148-b1ab378f20aa')\"\n",
              "              title=\"Convert this dataframe to an interactive table.\"\n",
              "              style=\"display:none;\">\n",
              "        \n",
              "  <svg xmlns=\"http://www.w3.org/2000/svg\" height=\"24px\"viewBox=\"0 0 24 24\"\n",
              "       width=\"24px\">\n",
              "    <path d=\"M0 0h24v24H0V0z\" fill=\"none\"/>\n",
              "    <path d=\"M18.56 5.44l.94 2.06.94-2.06 2.06-.94-2.06-.94-.94-2.06-.94 2.06-2.06.94zm-11 1L8.5 8.5l.94-2.06 2.06-.94-2.06-.94L8.5 2.5l-.94 2.06-2.06.94zm10 10l.94 2.06.94-2.06 2.06-.94-2.06-.94-.94-2.06-.94 2.06-2.06.94z\"/><path d=\"M17.41 7.96l-1.37-1.37c-.4-.4-.92-.59-1.43-.59-.52 0-1.04.2-1.43.59L10.3 9.45l-7.72 7.72c-.78.78-.78 2.05 0 2.83L4 21.41c.39.39.9.59 1.41.59.51 0 1.02-.2 1.41-.59l7.78-7.78 2.81-2.81c.8-.78.8-2.07 0-2.86zM5.41 20L4 18.59l7.72-7.72 1.47 1.35L5.41 20z\"/>\n",
              "  </svg>\n",
              "      </button>\n",
              "      \n",
              "  <style>\n",
              "    .colab-df-container {\n",
              "      display:flex;\n",
              "      flex-wrap:wrap;\n",
              "      gap: 12px;\n",
              "    }\n",
              "\n",
              "    .colab-df-convert {\n",
              "      background-color: #E8F0FE;\n",
              "      border: none;\n",
              "      border-radius: 50%;\n",
              "      cursor: pointer;\n",
              "      display: none;\n",
              "      fill: #1967D2;\n",
              "      height: 32px;\n",
              "      padding: 0 0 0 0;\n",
              "      width: 32px;\n",
              "    }\n",
              "\n",
              "    .colab-df-convert:hover {\n",
              "      background-color: #E2EBFA;\n",
              "      box-shadow: 0px 1px 2px rgba(60, 64, 67, 0.3), 0px 1px 3px 1px rgba(60, 64, 67, 0.15);\n",
              "      fill: #174EA6;\n",
              "    }\n",
              "\n",
              "    [theme=dark] .colab-df-convert {\n",
              "      background-color: #3B4455;\n",
              "      fill: #D2E3FC;\n",
              "    }\n",
              "\n",
              "    [theme=dark] .colab-df-convert:hover {\n",
              "      background-color: #434B5C;\n",
              "      box-shadow: 0px 1px 3px 1px rgba(0, 0, 0, 0.15);\n",
              "      filter: drop-shadow(0px 1px 2px rgba(0, 0, 0, 0.3));\n",
              "      fill: #FFFFFF;\n",
              "    }\n",
              "  </style>\n",
              "\n",
              "      <script>\n",
              "        const buttonEl =\n",
              "          document.querySelector('#df-97f6ae07-558f-4d4c-a148-b1ab378f20aa button.colab-df-convert');\n",
              "        buttonEl.style.display =\n",
              "          google.colab.kernel.accessAllowed ? 'block' : 'none';\n",
              "\n",
              "        async function convertToInteractive(key) {\n",
              "          const element = document.querySelector('#df-97f6ae07-558f-4d4c-a148-b1ab378f20aa');\n",
              "          const dataTable =\n",
              "            await google.colab.kernel.invokeFunction('convertToInteractive',\n",
              "                                                     [key], {});\n",
              "          if (!dataTable) return;\n",
              "\n",
              "          const docLinkHtml = 'Like what you see? Visit the ' +\n",
              "            '<a target=\"_blank\" href=https://colab.research.google.com/notebooks/data_table.ipynb>data table notebook</a>'\n",
              "            + ' to learn more about interactive tables.';\n",
              "          element.innerHTML = '';\n",
              "          dataTable['output_type'] = 'display_data';\n",
              "          await google.colab.output.renderOutput(dataTable, element);\n",
              "          const docLink = document.createElement('div');\n",
              "          docLink.innerHTML = docLinkHtml;\n",
              "          element.appendChild(docLink);\n",
              "        }\n",
              "      </script>\n",
              "    </div>\n",
              "  </div>\n",
              "  "
            ]
          },
          "metadata": {},
          "execution_count": 11
        }
      ]
    }
  ]
}